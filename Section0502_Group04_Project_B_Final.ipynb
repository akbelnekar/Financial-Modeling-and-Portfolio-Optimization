{
 "cells": [
  {
   "cell_type": "markdown",
   "id": "6ffbab09-8f34-44c3-b847-6d0a6c68c5d3",
   "metadata": {
    "tags": []
   },
   "source": [
    "# **Section0502_Group04_Project_B**"
   ]
  },
  {
   "cell_type": "markdown",
   "id": "57b23657-ec32-437f-9496-403099be4076",
   "metadata": {},
   "source": [
    "### Our choices"
   ]
  },
  {
   "cell_type": "code",
   "execution_count": 1,
   "id": "55ed7cc6-ceba-4e09-a02d-604ec16ba4e0",
   "metadata": {
    "tags": []
   },
   "outputs": [],
   "source": [
    "# For grading.\n",
    "maFast = 11\n",
    "maSlow = 220\n",
    "bbWindow = 23\n",
    "bbStdevBand = 2\n",
    "myStrategies = [\n",
    "    'AAPL-MAFlat', 'AMZN-MAFlat', 'EUR-MAShort',\n",
    "    'FBNDX-MAShort', 'GE-MAShort', 'GOLD-MAFlat',\n",
    "    'INTC-BB', 'SPY-MAFlat'\n",
    "]"
   ]
  },
  {
   "cell_type": "markdown",
   "id": "dc085ff5-34d2-4d97-876c-a422728bc4d3",
   "metadata": {},
   "source": [
    "### Importing Required Libraraies:"
   ]
  },
  {
   "cell_type": "code",
   "execution_count": 2,
   "id": "352d9de6-81a3-47dd-a1e8-64aa8ade0812",
   "metadata": {
    "tags": []
   },
   "outputs": [],
   "source": [
    "# import necessary libraries\n",
    "%matplotlib inline\n",
    "import pandas as pd\n",
    "import numpy as np\n",
    "import matplotlib.pyplot as plt\n",
    "import matplotlib.ticker as ticker\n",
    "import seaborn as sns\n",
    "import statsmodels.api as sm\n",
    "from statsmodels.regression.rolling import RollingOLS"
   ]
  },
  {
   "cell_type": "markdown",
   "id": "65893efc-394b-4f83-927a-04aeec2825c7",
   "metadata": {},
   "source": [
    "### Defining all the required functions:"
   ]
  },
  {
   "cell_type": "code",
   "execution_count": 3,
   "id": "271ad996-79c7-4158-b029-7f3fb81c7e04",
   "metadata": {
    "tags": []
   },
   "outputs": [],
   "source": [
    "def read_price_data(filename, index_col=0, parse_dates=True):\n",
    "    # Reading the CSV file\n",
    "    df = pd.read_csv(filename, index_col=index_col, parse_dates=parse_dates)\n",
    "\n",
    "    # Printing dataframe information\n",
    "    print(\"Dataframe info:\")\n",
    "    print(df.info())\n",
    "\n",
    "    # Checking for any null values\n",
    "    print(\"\\nChecking for any null values:\")\n",
    "    print(df.isnull().sum())\n",
    "\n",
    "    # Printing summary statistics\n",
    "    print(\"\\nSummary statistics:\")\n",
    "    print(df.describe())\n",
    "\n",
    "    # Displaying the dataframe\n",
    "    print(\"\\nDisplaying dataFrame:\")\n",
    "    print(df)\n",
    "    return df"
   ]
  },
  {
   "cell_type": "code",
   "execution_count": 4,
   "id": "5aa4a6b5-a039-4362-aa0d-5ca47b7baca2",
   "metadata": {
    "tags": []
   },
   "outputs": [],
   "source": [
    "def print_pct_data(data_frame, stringFmtSpec='{:.4%}', na_rep='NaN', index_slice=None):\n",
    "    if index_slice is not None:\n",
    "        styler = data_frame.style.format(na_rep=na_rep)\n",
    "        styler = styler.format(stringFmtSpec, subset=pd.IndexSlice[index_slice, :])\n",
    "    else:\n",
    "        styler = data_frame.style.format(stringFmtSpec, na_rep=na_rep)\n",
    "\n",
    "    return styler"
   ]
  },
  {
   "cell_type": "code",
   "execution_count": 5,
   "id": "6c2a009f-3137-491c-b3aa-320c4906da0a",
   "metadata": {
    "tags": []
   },
   "outputs": [],
   "source": [
    "def calcPerformanceStatistics(returns, annualization_factor=260, print_Screen=True, percent_format_string='{:.2%}'):\n",
    "    if pd.isna(returns.iloc[0, 0]):  # Check if the first value is NaN\n",
    "        if not returns.iloc[0].isna().all():  # Check if all values in the first row are NaN\n",
    "            raise ValueError(\"First row should be all NaN or not NaN at all.\")\n",
    "    else:\n",
    "        returns = pd.concat([pd.DataFrame(index=[returns.index[0] - pd.Timedelta(days=1)], columns=returns.columns), returns])\n",
    "\n",
    "    # assign the cumulative returns to a new variable which will have the first NaN row\n",
    "    cumReturns = returns.cumsum()\n",
    "    # verify replace the NaN row with zeroes\n",
    "    cumReturns = cumReturns.fillna(0)\n",
    "    # Calculate High Water Mark (HWM)\n",
    "    high_water_mark = np.maximum.accumulate(cumReturns)\n",
    "    underWaterCurve = cumReturns - high_water_mark\n",
    "\n",
    "    average_annual_return = annualization_factor * returns.mean()\n",
    "    annual_risk = np.sqrt(annualization_factor) * returns.std()\n",
    "    sharpe_ratio = returns.mean() / returns.std() * np.sqrt(annualization_factor)\n",
    "    max_drawdown = underWaterCurve.min()\n",
    "    success_ratio = (returns.dropna() >= 0).sum() / returns.dropna().shape[0]\n",
    "\n",
    "\n",
    "    summary_stats = pd.DataFrame([\n",
    "        average_annual_return,\n",
    "        annual_risk,\n",
    "        sharpe_ratio,\n",
    "        max_drawdown,\n",
    "        success_ratio\n",
    "    ], index=['Average Annual Return', 'Annual Risk', 'Sharpe Ratio', 'Max Drawdown', 'Success Ratio'])\n",
    "\n",
    "    if print_Screen:\n",
    "        print(\"Performance Statistics:\")\n",
    "        print_pct_data(summary_stats, percent_format_string)\n",
    "\n",
    "    return summary_stats"
   ]
  },
  {
   "cell_type": "code",
   "execution_count": 6,
   "id": "f31089b3-7ca4-43a8-92ba-9e38963962cf",
   "metadata": {
    "tags": []
   },
   "outputs": [],
   "source": [
    "def movingAverageCrossover(prices, fastWindow, slowWindow):\n",
    "    prices = prices.copy()\n",
    "    if prices.shape[1] > 1:\n",
    "        raise ValueError(\"Input dataFrame should have only one column.\")\n",
    "\n",
    "    # Calculate moving averages\n",
    "    prices.loc[:,\"FastSMA\"] = prices[f\"{prices.columns[0]}\"].rolling(window=fastWindow).mean()\n",
    "    prices.loc[:,\"SlowSMA\"] = prices[f\"{prices.columns[0]}\"].rolling(window=slowWindow).mean()\n",
    "    prices.dropna(inplace=True)\n",
    "\n",
    "    # Benchmark (Buy and Hold)\n",
    "    prices.loc[:,f\"{prices.columns[0]}-BMK-MA\"] = np.log(prices[f\"{prices.columns[0]}\"] / prices[f\"{prices.columns[0]}\"].shift(1))\n",
    "\n",
    "    # \"Go Flat\" strategy (flat when fast MA is below slow MA)\n",
    "    prices.loc[:,'PositionFlat'] = np.where(prices['FastSMA'] > prices['SlowSMA'], 1, 0)  # 1 if fast > slow, 0 otherwise\n",
    "    prices.style.format(na_rep='NaN')\n",
    "    flat_returns = prices['PositionFlat'].shift(1) * prices[f\"{prices.columns[0]}-BMK-MA\"]\n",
    "\n",
    "    # \"Go Short\" strategy (short when fast MA is below slow MA)\n",
    "    prices.loc[:,'PositionShort'] = np.where(prices['FastSMA'] > prices['SlowSMA'], 1, -1)  # 1 for long, -1 for short\n",
    "    prices.style.format(na_rep='NaN')\n",
    "    short_returns = prices['PositionShort'].shift(1) * prices[f\"{prices.columns[0]}-BMK-MA\"]\n",
    "\n",
    "    result = pd.DataFrame({\n",
    "        f\"{prices.columns[0]}-BMK-MA\": prices[f\"{prices.columns[0]}-BMK-MA\"].squeeze(),\n",
    "        f\"{prices.columns[0]}-MAFlat\": flat_returns.squeeze(),\n",
    "        f\"{prices.columns[0]}-MAShort\": short_returns.squeeze()\n",
    "    }, index=prices.index)\n",
    "\n",
    "    return result\n"
   ]
  },
  {
   "cell_type": "code",
   "execution_count": 7,
   "id": "07670d29-f806-49e7-b36d-5b3f4fa2d8f9",
   "metadata": {
    "tags": []
   },
   "outputs": [],
   "source": [
    "def bollingerBands(prices, lookbackWindow, stdevBand):\n",
    "    prices = prices.copy()\n",
    "\n",
    "    if prices.shape[1] > 1:\n",
    "        raise ValueError(\"Input dataFrame should have only one column.\")\n",
    "\n",
    "    # Calculate the moving average and standard deviation\n",
    "    prices['SMA'] = prices[f\"{prices.columns[0]}\"].rolling(window=lookbackWindow).mean()\n",
    "    prices['STD'] = prices[f\"{prices.columns[0]}\"].rolling(window=lookbackWindow).std()\n",
    "    prices.dropna(inplace=True)\n",
    "\n",
    "    # Calculate the upper and lower Bollinger Bands\n",
    "    prices['UpperBand'] = prices['SMA'] + (stdevBand * prices['STD'])\n",
    "    prices['LowerBand'] = prices['SMA'] - (stdevBand * prices['STD'])\n",
    "\n",
    "    # Bollinger Band strategy\n",
    "\n",
    "    # initialize the first row based on the close price vis-a-vis the bands\n",
    "    # here, we're also initializng a new column called 'Position'\n",
    "    date0 = prices.index[0]\n",
    "    if prices.loc[date0, prices.columns[0]] >= prices.loc[date0, 'UpperBand']:\n",
    "        prices.loc[date0, 'Position'] = -1\n",
    "    elif prices.loc[date0, prices.columns[0]] <= prices.loc[date0, 'LowerBand']:\n",
    "        prices.loc[date0, 'Position'] = 1\n",
    "    else:\n",
    "        prices.loc[date0, 'Position'] = 0\n",
    "\n",
    "    # Loop over the entire data set starting from the second row\n",
    "    for i in range(1, prices.shape[0]):\n",
    "        today = prices.index[i]\n",
    "        yesterday = prices.index[i - 1]\n",
    "\n",
    "        # If today's price is above the upper band, go short (-1)\n",
    "        if prices.loc[today, prices.columns[0]] >= prices.loc[today, 'UpperBand']:\n",
    "            prices.loc[today, 'Position'] = -1\n",
    "\n",
    "        # If today's price is below the lower band, go long (1)\n",
    "        elif prices.loc[today, prices.columns[0]] <= prices.loc[today, 'LowerBand']:\n",
    "            prices.loc[today, 'Position'] = 1\n",
    "\n",
    "        # If yesterday's position was short and today's price is below the mean, flatten (0)\n",
    "        elif prices.loc[yesterday, 'Position'] == -1 and prices.loc[today, prices.columns[0]] <= prices.loc[today, 'SMA']:\n",
    "            prices.loc[today, 'Position'] = 0\n",
    "\n",
    "        # If yesterday's position was long and today's price is above the mean, flatten (0)\n",
    "        elif prices.loc[yesterday, 'Position'] == 1 and prices.loc[today, prices.columns[0]] >= prices.loc[today, 'SMA']:\n",
    "            prices.loc[today, 'Position'] = 0\n",
    "\n",
    "        # Otherwise, maintain yesterday's position\n",
    "        else:\n",
    "            prices.loc[today, 'Position'] = prices.loc[yesterday, 'Position']\n",
    "\n",
    "    # Benchmark using log returns\n",
    "    prices[f\"{prices.columns[0]}-BMK-BB\"] = np.log(prices[f\"{prices.columns[0]}\"] / prices[f\"{prices.columns[0]}\"].shift(1))\n",
    "\n",
    "    # Calculate the returns for the Bollinger Band strategy\n",
    "    prices[f\"{prices.columns[0]}-BB\"] = prices['Position'].shift(1) * prices[f\"{prices.columns[0]}-BMK-BB\"]\n",
    "\n",
    "    # Drop NaN values that were introduced during calculations\n",
    "    prices.dropna(inplace=True)\n",
    "\n",
    "    result = pd.DataFrame({\n",
    "        f\"{prices.columns[0]}-BMK-BB\": prices[f\"{prices.columns[0]}-BMK-BB\"],\n",
    "        f\"{prices.columns[0]}-BB\": prices[f\"{prices.columns[0]}-BB\"]\n",
    "    }, index=prices.index)\n",
    "\n",
    "    return result\n"
   ]
  },
  {
   "cell_type": "code",
   "execution_count": 8,
   "id": "4a75206d-fa2e-494e-9536-e5075c4661d2",
   "metadata": {
    "tags": []
   },
   "outputs": [],
   "source": [
    "import pandas as pd\n",
    "\n",
    "def runMovingAverageAndBB(dataFrame, fastWindow, slowWindow, bbWindow, stdevBand):\n",
    "\n",
    "    # Run the movingAverageCrossover function\n",
    "    ma_result = movingAverageCrossover(dataFrame.copy(), fastWindow, slowWindow)\n",
    "\n",
    "    # Run the bollingerBands function\n",
    "    bb_result = bollingerBands(dataFrame.copy(), bbWindow, stdevBand)\n",
    "\n",
    "    # Perform an inner join on the index (date)\n",
    "    result = ma_result.join(bb_result, how='inner').dropna()\n",
    "\n",
    "    # Ensure that the columns for BMK-MA and BMK-BB are identical\n",
    "    bmk_ma_col = [col for col in result.columns if 'BMK-MA' in col][0]\n",
    "    bmk_bb_col = [col for col in result.columns if 'BMK-BB' in col][0]\n",
    "\n",
    "    if not result[bmk_ma_col].equals(result[bmk_bb_col]):\n",
    "        raise ValueError(\"BMK-MA and BMK-BB columns should be identical.\")\n",
    "\n",
    "    # Return the joined DataFrame with 5 columns\n",
    "    return result\n"
   ]
  },
  {
   "cell_type": "markdown",
   "id": "5b5c9a05-a5b4-4657-8117-7ec08206685c",
   "metadata": {},
   "source": [
    "  "
   ]
  },
  {
   "cell_type": "markdown",
   "id": "2016ef07-179c-4d54-bce7-280a83370fe1",
   "metadata": {},
   "source": [
    "## Q1.  Importing Close Price Data for Multiple Asset Classes (till Oct 2022)"
   ]
  },
  {
   "cell_type": "code",
   "execution_count": 9,
   "id": "806aea7d-825b-437d-8e15-583632c0662d",
   "metadata": {
    "tags": []
   },
   "outputs": [],
   "source": [
    "# Importing Prices csv file.\n",
    "dfPrices = pd.read_csv('PricesProjectB.csv', index_col=0, parse_dates=True)"
   ]
  },
  {
   "cell_type": "code",
   "execution_count": 10,
   "id": "da18ad1b-b7bc-4fe1-bae0-356f3ba41350",
   "metadata": {
    "tags": []
   },
   "outputs": [
    {
     "data": {
      "text/html": [
       "<div>\n",
       "<style scoped>\n",
       "    .dataframe tbody tr th:only-of-type {\n",
       "        vertical-align: middle;\n",
       "    }\n",
       "\n",
       "    .dataframe tbody tr th {\n",
       "        vertical-align: top;\n",
       "    }\n",
       "\n",
       "    .dataframe thead th {\n",
       "        text-align: right;\n",
       "    }\n",
       "</style>\n",
       "<table border=\"1\" class=\"dataframe\">\n",
       "  <thead>\n",
       "    <tr style=\"text-align: right;\">\n",
       "      <th></th>\n",
       "      <th>AAPL</th>\n",
       "      <th>AMZN</th>\n",
       "      <th>ATT</th>\n",
       "      <th>AUD</th>\n",
       "      <th>EUR</th>\n",
       "      <th>FBNDX</th>\n",
       "      <th>GE</th>\n",
       "      <th>GOLD</th>\n",
       "      <th>INTC</th>\n",
       "      <th>LEHM</th>\n",
       "      <th>SILVER</th>\n",
       "      <th>SPY</th>\n",
       "    </tr>\n",
       "  </thead>\n",
       "  <tbody>\n",
       "    <tr>\n",
       "      <th>1999-12-31</th>\n",
       "      <td>0.917969</td>\n",
       "      <td>3.806250</td>\n",
       "      <td>36.820244</td>\n",
       "      <td>0.6567</td>\n",
       "      <td>1.0062</td>\n",
       "      <td>6.89</td>\n",
       "      <td>396.794861</td>\n",
       "      <td>288.00</td>\n",
       "      <td>41.156250</td>\n",
       "      <td>798.154631</td>\n",
       "      <td>5.3800</td>\n",
       "      <td>146.875000</td>\n",
       "    </tr>\n",
       "    <tr>\n",
       "      <th>2000-01-03</th>\n",
       "      <td>0.999442</td>\n",
       "      <td>4.468750</td>\n",
       "      <td>35.498489</td>\n",
       "      <td>0.6585</td>\n",
       "      <td>1.0243</td>\n",
       "      <td>6.85</td>\n",
       "      <td>384.615387</td>\n",
       "      <td>289.00</td>\n",
       "      <td>43.500000</td>\n",
       "      <td>793.868670</td>\n",
       "      <td>5.4050</td>\n",
       "      <td>145.437500</td>\n",
       "    </tr>\n",
       "    <tr>\n",
       "      <th>2000-01-04</th>\n",
       "      <td>0.915179</td>\n",
       "      <td>4.096875</td>\n",
       "      <td>33.421452</td>\n",
       "      <td>0.6550</td>\n",
       "      <td>1.0296</td>\n",
       "      <td>6.87</td>\n",
       "      <td>369.230774</td>\n",
       "      <td>282.25</td>\n",
       "      <td>41.468750</td>\n",
       "      <td>796.761677</td>\n",
       "      <td>5.3250</td>\n",
       "      <td>139.750000</td>\n",
       "    </tr>\n",
       "    <tr>\n",
       "      <th>2000-01-05</th>\n",
       "      <td>0.928571</td>\n",
       "      <td>3.487500</td>\n",
       "      <td>33.940708</td>\n",
       "      <td>0.6579</td>\n",
       "      <td>1.0321</td>\n",
       "      <td>6.84</td>\n",
       "      <td>368.589752</td>\n",
       "      <td>280.00</td>\n",
       "      <td>41.812500</td>\n",
       "      <td>793.118215</td>\n",
       "      <td>5.1450</td>\n",
       "      <td>140.000000</td>\n",
       "    </tr>\n",
       "    <tr>\n",
       "      <th>2000-01-06</th>\n",
       "      <td>0.848214</td>\n",
       "      <td>3.278125</td>\n",
       "      <td>33.043808</td>\n",
       "      <td>0.6533</td>\n",
       "      <td>1.0328</td>\n",
       "      <td>6.86</td>\n",
       "      <td>373.517639</td>\n",
       "      <td>281.10</td>\n",
       "      <td>39.375000</td>\n",
       "      <td>795.091984</td>\n",
       "      <td>5.1200</td>\n",
       "      <td>137.750000</td>\n",
       "    </tr>\n",
       "    <tr>\n",
       "      <th>...</th>\n",
       "      <td>...</td>\n",
       "      <td>...</td>\n",
       "      <td>...</td>\n",
       "      <td>...</td>\n",
       "      <td>...</td>\n",
       "      <td>...</td>\n",
       "      <td>...</td>\n",
       "      <td>...</td>\n",
       "      <td>...</td>\n",
       "      <td>...</td>\n",
       "      <td>...</td>\n",
       "      <td>...</td>\n",
       "    </tr>\n",
       "    <tr>\n",
       "      <th>2022-10-25</th>\n",
       "      <td>152.339996</td>\n",
       "      <td>120.599998</td>\n",
       "      <td>17.690001</td>\n",
       "      <td>0.6394</td>\n",
       "      <td>0.9966</td>\n",
       "      <td>6.88</td>\n",
       "      <td>73.000000</td>\n",
       "      <td>1653.17</td>\n",
       "      <td>27.410000</td>\n",
       "      <td>844.938544</td>\n",
       "      <td>19.3473</td>\n",
       "      <td>384.920013</td>\n",
       "    </tr>\n",
       "    <tr>\n",
       "      <th>2022-10-26</th>\n",
       "      <td>149.350006</td>\n",
       "      <td>115.660004</td>\n",
       "      <td>18.139999</td>\n",
       "      <td>0.6497</td>\n",
       "      <td>1.0081</td>\n",
       "      <td>6.91</td>\n",
       "      <td>75.459999</td>\n",
       "      <td>1664.57</td>\n",
       "      <td>27.209999</td>\n",
       "      <td>849.013953</td>\n",
       "      <td>19.5815</td>\n",
       "      <td>382.019989</td>\n",
       "    </tr>\n",
       "    <tr>\n",
       "      <th>2022-10-27</th>\n",
       "      <td>144.800003</td>\n",
       "      <td>110.959999</td>\n",
       "      <td>18.030001</td>\n",
       "      <td>0.6452</td>\n",
       "      <td>0.9964</td>\n",
       "      <td>6.94</td>\n",
       "      <td>76.000000</td>\n",
       "      <td>1663.31</td>\n",
       "      <td>26.270000</td>\n",
       "      <td>853.391436</td>\n",
       "      <td>19.6014</td>\n",
       "      <td>379.980011</td>\n",
       "    </tr>\n",
       "    <tr>\n",
       "      <th>2022-10-28</th>\n",
       "      <td>155.740005</td>\n",
       "      <td>103.410004</td>\n",
       "      <td>18.480000</td>\n",
       "      <td>0.6411</td>\n",
       "      <td>0.9965</td>\n",
       "      <td>6.93</td>\n",
       "      <td>78.330002</td>\n",
       "      <td>1644.86</td>\n",
       "      <td>29.070000</td>\n",
       "      <td>851.238239</td>\n",
       "      <td>19.2595</td>\n",
       "      <td>389.019989</td>\n",
       "    </tr>\n",
       "    <tr>\n",
       "      <th>2022-10-31</th>\n",
       "      <td>153.339996</td>\n",
       "      <td>102.440002</td>\n",
       "      <td>18.230000</td>\n",
       "      <td>0.6399</td>\n",
       "      <td>0.9882</td>\n",
       "      <td>6.90</td>\n",
       "      <td>77.809998</td>\n",
       "      <td>1633.56</td>\n",
       "      <td>28.430000</td>\n",
       "      <td>847.557048</td>\n",
       "      <td>19.1645</td>\n",
       "      <td>386.209991</td>\n",
       "    </tr>\n",
       "  </tbody>\n",
       "</table>\n",
       "<p>5704 rows × 12 columns</p>\n",
       "</div>"
      ],
      "text/plain": [
       "                  AAPL        AMZN        ATT     AUD     EUR  FBNDX  \\\n",
       "1999-12-31    0.917969    3.806250  36.820244  0.6567  1.0062   6.89   \n",
       "2000-01-03    0.999442    4.468750  35.498489  0.6585  1.0243   6.85   \n",
       "2000-01-04    0.915179    4.096875  33.421452  0.6550  1.0296   6.87   \n",
       "2000-01-05    0.928571    3.487500  33.940708  0.6579  1.0321   6.84   \n",
       "2000-01-06    0.848214    3.278125  33.043808  0.6533  1.0328   6.86   \n",
       "...                ...         ...        ...     ...     ...    ...   \n",
       "2022-10-25  152.339996  120.599998  17.690001  0.6394  0.9966   6.88   \n",
       "2022-10-26  149.350006  115.660004  18.139999  0.6497  1.0081   6.91   \n",
       "2022-10-27  144.800003  110.959999  18.030001  0.6452  0.9964   6.94   \n",
       "2022-10-28  155.740005  103.410004  18.480000  0.6411  0.9965   6.93   \n",
       "2022-10-31  153.339996  102.440002  18.230000  0.6399  0.9882   6.90   \n",
       "\n",
       "                    GE     GOLD       INTC        LEHM   SILVER         SPY  \n",
       "1999-12-31  396.794861   288.00  41.156250  798.154631   5.3800  146.875000  \n",
       "2000-01-03  384.615387   289.00  43.500000  793.868670   5.4050  145.437500  \n",
       "2000-01-04  369.230774   282.25  41.468750  796.761677   5.3250  139.750000  \n",
       "2000-01-05  368.589752   280.00  41.812500  793.118215   5.1450  140.000000  \n",
       "2000-01-06  373.517639   281.10  39.375000  795.091984   5.1200  137.750000  \n",
       "...                ...      ...        ...         ...      ...         ...  \n",
       "2022-10-25   73.000000  1653.17  27.410000  844.938544  19.3473  384.920013  \n",
       "2022-10-26   75.459999  1664.57  27.209999  849.013953  19.5815  382.019989  \n",
       "2022-10-27   76.000000  1663.31  26.270000  853.391436  19.6014  379.980011  \n",
       "2022-10-28   78.330002  1644.86  29.070000  851.238239  19.2595  389.019989  \n",
       "2022-10-31   77.809998  1633.56  28.430000  847.557048  19.1645  386.209991  \n",
       "\n",
       "[5704 rows x 12 columns]"
      ]
     },
     "execution_count": 10,
     "metadata": {},
     "output_type": "execute_result"
    }
   ],
   "source": [
    "dfPrices"
   ]
  },
  {
   "cell_type": "markdown",
   "id": "d8efe539-4b27-4a81-aeff-3f2144333e3d",
   "metadata": {},
   "source": [
    "    "
   ]
  },
  {
   "cell_type": "markdown",
   "id": "658c3dbb-471e-4399-83b1-ea1c79fb4d59",
   "metadata": {
    "tags": []
   },
   "source": [
    "## Q3. Re-run strategies on complete window."
   ]
  },
  {
   "cell_type": "code",
   "execution_count": 11,
   "id": "62ca63ea-1941-415a-97fb-702b0261a093",
   "metadata": {
    "tags": []
   },
   "outputs": [],
   "source": [
    "# List of all 12 instruments\n",
    "instruments = ['AAPL', 'AMZN', 'GE', 'INTC', 'SPY',  # Chosen Equities\n",
    "               'FBNDX',  # Chosen Fixed Income\n",
    "               'GOLD',   # Chosen Commodities\n",
    "               'EUR']    # Chosen Currencies\n",
    "\n",
    "# Define the parameters based on your chosen values\n",
    "fastWindow = 11\n",
    "slowWindow = 220\n",
    "bbWindow = 23\n",
    "stdevBand = 2\n",
    "\n",
    "# Initialize an empty list to store the DataFrames for each instrument\n",
    "dfs = []\n",
    "\n",
    "# Loop through each instrument and apply the strategies\n",
    "for instrument in instruments:\n",
    "\n",
    "    # Select only the instrument's price data\n",
    "    data = dfPrices[[instrument]].dropna()\n",
    "\n",
    "    # Run the combined Moving Average and Bollinger Band strategy\n",
    "    result = runMovingAverageAndBB(data, fastWindow, slowWindow, bbWindow, stdevBand)\n",
    "\n",
    "    # Rename the columns to include the instrument name for uniqueness in the master DataFrame\n",
    "    # result = result.add_prefix(f\"{instrument}-\")\n",
    "\n",
    "    # Append the result to the list of DataFrames\n",
    "    dfs.append(result)\n",
    "\n",
    "# Concatenate all the individual DataFrames along the columns (axis=1)\n",
    "master_df = pd.concat(dfs, axis=1)\n"
   ]
  },
  {
   "cell_type": "code",
   "execution_count": 12,
   "id": "c12a817e-a1b1-4970-8301-78eed65fcbca",
   "metadata": {
    "tags": []
   },
   "outputs": [
    {
     "name": "stdout",
     "output_type": "stream",
     "text": [
      "            AAPL-MAFlat  AMZN-MAFlat  EUR-MAShort  FBNDX-MAShort  GE-MAShort  \\\n",
      "2000-11-14          0.0          0.0    -0.000583       0.001428    0.025196   \n",
      "2000-11-15         -0.0          0.0     0.000117       0.001426   -0.004751   \n",
      "2000-11-16         -0.0         -0.0     0.005027       0.001423    0.002378   \n",
      "2000-11-17         -0.0         -0.0     0.006349      -0.001423   -0.014354   \n",
      "2000-11-20          0.0         -0.0    -0.004237       0.000000   -0.035565   \n",
      "\n",
      "            GOLD-MAFlat  INTC-BB  SPY-MAFlat  \n",
      "2000-11-14          0.0      0.0         0.0  \n",
      "2000-11-15          0.0      0.0         0.0  \n",
      "2000-11-16          0.0     -0.0        -0.0  \n",
      "2000-11-17         -0.0      0.0        -0.0  \n",
      "2000-11-20          0.0     -0.0        -0.0  \n",
      "My Strategies DataFrame Shape: (5484, 8)\n"
     ]
    }
   ],
   "source": [
    "# Define the 8 chosen strategies in alphabetical order\n",
    "myStrategies = [\n",
    "    'AAPL-MAFlat', 'AMZN-MAFlat', 'EUR-MAShort',\n",
    "    'FBNDX-MAShort', 'GE-MAShort', 'GOLD-MAFlat',\n",
    "    'INTC-BB', 'SPY-MAFlat'\n",
    "]\n",
    "\n",
    "# Create the 'myStrategies' DataFrame by subsetting the master DataFrame\n",
    "myStrategies_df = master_df[[f\"{strategy}\" for strategy in myStrategies]].copy()\n",
    "\n",
    "inSample = pd.IndexSlice[:'2018-12-31',:]\n",
    "outOfSample = pd.IndexSlice['2019-01-02':'2022-10-31',:]\n",
    "\n",
    "# Display the first few rows to confirm the subset\n",
    "print(myStrategies_df.head())\n",
    "\n",
    "# Verify the shape of the new DataFrame\n",
    "print(f\"My Strategies DataFrame Shape: {myStrategies_df.shape}\")\n"
   ]
  },
  {
   "cell_type": "markdown",
   "id": "7dec89b9-568e-49f3-97c3-5f60b78e138b",
   "metadata": {},
   "source": [
    "#### The start date of the \"My Strategies\" dataframe is same as that of Part A #8. (2000-11-14)"
   ]
  },
  {
   "cell_type": "markdown",
   "id": "9b5c3b04-9a03-4af0-9b32-6e5a42de16b2",
   "metadata": {},
   "source": [
    "  "
   ]
  },
  {
   "cell_type": "markdown",
   "id": "733e6cc3-7f2f-4684-b61e-39efa1e2cbda",
   "metadata": {
    "tags": []
   },
   "source": [
    "## Q4 Create the Max Sharpe Portfolio and calculate performance statistics for in-sample and out-sample data"
   ]
  },
  {
   "cell_type": "code",
   "execution_count": 13,
   "id": "6a301828-705e-4c55-be4b-135a7be33b20",
   "metadata": {
    "tags": []
   },
   "outputs": [],
   "source": [
    "# Storing weights calculated from Part A for Max Sharpe Portfolio.\n",
    "weights = [0.194026, 0.078658, 0.157184, 0.211177, 0.090113, 0.123886, 0.079779, 0.065178]\n",
    "# Calculate MAX-Sharpe Portfolio and add it to \"My Strategies\" portfolio.\n",
    "max_sharpe_df = pd.DataFrame((weights * myStrategies_df).sum(axis=1, skipna=False), columns=['Max Sharpe Portfolio'])\n",
    "myStrategies_df = myStrategies_df.join(max_sharpe_df, how='inner')"
   ]
  },
  {
   "cell_type": "markdown",
   "id": "88bb9f30-c6df-49ff-88be-e9e353f71df6",
   "metadata": {},
   "source": [
    "#### Calculating In-Sample data performance statistics and verifying with Part A"
   ]
  },
  {
   "cell_type": "code",
   "execution_count": 14,
   "id": "80553520-8bf2-4c98-bb20-04d7d7e14237",
   "metadata": {
    "tags": []
   },
   "outputs": [
    {
     "name": "stdout",
     "output_type": "stream",
     "text": [
      "Performance Statistics:\n"
     ]
    },
    {
     "data": {
      "text/html": [
       "<div>\n",
       "<style scoped>\n",
       "    .dataframe tbody tr th:only-of-type {\n",
       "        vertical-align: middle;\n",
       "    }\n",
       "\n",
       "    .dataframe tbody tr th {\n",
       "        vertical-align: top;\n",
       "    }\n",
       "\n",
       "    .dataframe thead th {\n",
       "        text-align: right;\n",
       "    }\n",
       "</style>\n",
       "<table border=\"1\" class=\"dataframe\">\n",
       "  <thead>\n",
       "    <tr style=\"text-align: right;\">\n",
       "      <th></th>\n",
       "      <th>AAPL-MAFlat</th>\n",
       "      <th>AMZN-MAFlat</th>\n",
       "      <th>EUR-MAShort</th>\n",
       "      <th>FBNDX-MAShort</th>\n",
       "      <th>GE-MAShort</th>\n",
       "      <th>GOLD-MAFlat</th>\n",
       "      <th>INTC-BB</th>\n",
       "      <th>SPY-MAFlat</th>\n",
       "      <th>Max Sharpe Portfolio</th>\n",
       "    </tr>\n",
       "  </thead>\n",
       "  <tbody>\n",
       "    <tr>\n",
       "      <th>Average Annual Return</th>\n",
       "      <td>0.279595</td>\n",
       "      <td>0.219618</td>\n",
       "      <td>0.024583</td>\n",
       "      <td>0.015420</td>\n",
       "      <td>0.125548</td>\n",
       "      <td>0.063500</td>\n",
       "      <td>0.118114</td>\n",
       "      <td>0.057765</td>\n",
       "      <td>0.111012</td>\n",
       "    </tr>\n",
       "    <tr>\n",
       "      <th>Annual Risk</th>\n",
       "      <td>0.274548</td>\n",
       "      <td>0.331070</td>\n",
       "      <td>0.100898</td>\n",
       "      <td>0.038145</td>\n",
       "      <td>0.310752</td>\n",
       "      <td>0.144342</td>\n",
       "      <td>0.266639</td>\n",
       "      <td>0.106285</td>\n",
       "      <td>0.082109</td>\n",
       "    </tr>\n",
       "    <tr>\n",
       "      <th>Sharpe Ratio</th>\n",
       "      <td>1.018386</td>\n",
       "      <td>0.663359</td>\n",
       "      <td>0.243639</td>\n",
       "      <td>0.404243</td>\n",
       "      <td>0.404015</td>\n",
       "      <td>0.439929</td>\n",
       "      <td>0.442973</td>\n",
       "      <td>0.543493</td>\n",
       "      <td>1.352016</td>\n",
       "    </tr>\n",
       "    <tr>\n",
       "      <th>Max Drawdown</th>\n",
       "      <td>-0.560454</td>\n",
       "      <td>-0.547177</td>\n",
       "      <td>-0.287990</td>\n",
       "      <td>-0.126006</td>\n",
       "      <td>-0.906678</td>\n",
       "      <td>-0.395251</td>\n",
       "      <td>-0.503874</td>\n",
       "      <td>-0.194994</td>\n",
       "      <td>-0.124966</td>\n",
       "    </tr>\n",
       "    <tr>\n",
       "      <th>Success Ratio</th>\n",
       "      <td>0.659006</td>\n",
       "      <td>0.668729</td>\n",
       "      <td>0.515580</td>\n",
       "      <td>0.642431</td>\n",
       "      <td>0.518232</td>\n",
       "      <td>0.683978</td>\n",
       "      <td>0.738343</td>\n",
       "      <td>0.695691</td>\n",
       "      <td>0.548508</td>\n",
       "    </tr>\n",
       "  </tbody>\n",
       "</table>\n",
       "</div>"
      ],
      "text/plain": [
       "                       AAPL-MAFlat  AMZN-MAFlat  EUR-MAShort  FBNDX-MAShort  \\\n",
       "Average Annual Return     0.279595     0.219618     0.024583       0.015420   \n",
       "Annual Risk               0.274548     0.331070     0.100898       0.038145   \n",
       "Sharpe Ratio              1.018386     0.663359     0.243639       0.404243   \n",
       "Max Drawdown             -0.560454    -0.547177    -0.287990      -0.126006   \n",
       "Success Ratio             0.659006     0.668729     0.515580       0.642431   \n",
       "\n",
       "                       GE-MAShort  GOLD-MAFlat   INTC-BB  SPY-MAFlat  \\\n",
       "Average Annual Return    0.125548     0.063500  0.118114    0.057765   \n",
       "Annual Risk              0.310752     0.144342  0.266639    0.106285   \n",
       "Sharpe Ratio             0.404015     0.439929  0.442973    0.543493   \n",
       "Max Drawdown            -0.906678    -0.395251 -0.503874   -0.194994   \n",
       "Success Ratio            0.518232     0.683978  0.738343    0.695691   \n",
       "\n",
       "                       Max Sharpe Portfolio  \n",
       "Average Annual Return              0.111012  \n",
       "Annual Risk                        0.082109  \n",
       "Sharpe Ratio                       1.352016  \n",
       "Max Drawdown                      -0.124966  \n",
       "Success Ratio                      0.548508  "
      ]
     },
     "execution_count": 14,
     "metadata": {},
     "output_type": "execute_result"
    }
   ],
   "source": [
    "# Calculate Performance Statistics\n",
    "calcPerformanceStatistics(myStrategies_df.loc[inSample])"
   ]
  },
  {
   "cell_type": "markdown",
   "id": "dd49186e-5e9d-4d16-902c-d553afc17323",
   "metadata": {},
   "source": [
    "#### We can verify that the In-Sample data has statistics same as Part A data (in #16)"
   ]
  },
  {
   "cell_type": "markdown",
   "id": "f2e41611-8759-4500-b5db-116f4e2f3198",
   "metadata": {},
   "source": [
    "  "
   ]
  },
  {
   "cell_type": "markdown",
   "id": "3b66f995-02b2-44ce-ada7-1f2dfddc3f22",
   "metadata": {},
   "source": [
    "#### Calculating Out-Sample data performance statistics"
   ]
  },
  {
   "cell_type": "code",
   "execution_count": 15,
   "id": "545aaeb3-1bcb-4ec0-af31-1fdcc7b0904b",
   "metadata": {
    "tags": []
   },
   "outputs": [
    {
     "name": "stdout",
     "output_type": "stream",
     "text": [
      "Performance Statistics:\n"
     ]
    },
    {
     "data": {
      "text/html": [
       "<div>\n",
       "<style scoped>\n",
       "    .dataframe tbody tr th:only-of-type {\n",
       "        vertical-align: middle;\n",
       "    }\n",
       "\n",
       "    .dataframe tbody tr th {\n",
       "        vertical-align: top;\n",
       "    }\n",
       "\n",
       "    .dataframe thead th {\n",
       "        text-align: right;\n",
       "    }\n",
       "</style>\n",
       "<table border=\"1\" class=\"dataframe\">\n",
       "  <thead>\n",
       "    <tr style=\"text-align: right;\">\n",
       "      <th></th>\n",
       "      <th>AAPL-MAFlat</th>\n",
       "      <th>AMZN-MAFlat</th>\n",
       "      <th>EUR-MAShort</th>\n",
       "      <th>FBNDX-MAShort</th>\n",
       "      <th>GE-MAShort</th>\n",
       "      <th>GOLD-MAFlat</th>\n",
       "      <th>INTC-BB</th>\n",
       "      <th>SPY-MAFlat</th>\n",
       "      <th>Max Sharpe Portfolio</th>\n",
       "    </tr>\n",
       "  </thead>\n",
       "  <tbody>\n",
       "    <tr>\n",
       "      <th>Average Annual Return</th>\n",
       "      <td>0.248853</td>\n",
       "      <td>0.087724</td>\n",
       "      <td>0.043466</td>\n",
       "      <td>0.055264</td>\n",
       "      <td>-0.170227</td>\n",
       "      <td>0.072403</td>\n",
       "      <td>0.128410</td>\n",
       "      <td>0.081179</td>\n",
       "      <td>0.082852</td>\n",
       "    </tr>\n",
       "    <tr>\n",
       "      <th>Annual Risk</th>\n",
       "      <td>0.309429</td>\n",
       "      <td>0.243837</td>\n",
       "      <td>0.073029</td>\n",
       "      <td>0.053283</td>\n",
       "      <td>0.459837</td>\n",
       "      <td>0.136723</td>\n",
       "      <td>0.333044</td>\n",
       "      <td>0.146135</td>\n",
       "      <td>0.097081</td>\n",
       "    </tr>\n",
       "    <tr>\n",
       "      <th>Sharpe Ratio</th>\n",
       "      <td>0.804234</td>\n",
       "      <td>0.359767</td>\n",
       "      <td>0.595194</td>\n",
       "      <td>1.037173</td>\n",
       "      <td>-0.370189</td>\n",
       "      <td>0.529564</td>\n",
       "      <td>0.385563</td>\n",
       "      <td>0.555505</td>\n",
       "      <td>0.853435</td>\n",
       "    </tr>\n",
       "    <tr>\n",
       "      <th>Max Drawdown</th>\n",
       "      <td>-0.377275</td>\n",
       "      <td>-0.263749</td>\n",
       "      <td>-0.153604</td>\n",
       "      <td>-0.105729</td>\n",
       "      <td>-1.275920</td>\n",
       "      <td>-0.226672</td>\n",
       "      <td>-0.476805</td>\n",
       "      <td>-0.210084</td>\n",
       "      <td>-0.157603</td>\n",
       "    </tr>\n",
       "    <tr>\n",
       "      <th>Success Ratio</th>\n",
       "      <td>0.620438</td>\n",
       "      <td>0.690302</td>\n",
       "      <td>0.524505</td>\n",
       "      <td>0.641293</td>\n",
       "      <td>0.481752</td>\n",
       "      <td>0.678832</td>\n",
       "      <td>0.717414</td>\n",
       "      <td>0.676747</td>\n",
       "      <td>0.547445</td>\n",
       "    </tr>\n",
       "  </tbody>\n",
       "</table>\n",
       "</div>"
      ],
      "text/plain": [
       "                       AAPL-MAFlat  AMZN-MAFlat  EUR-MAShort  FBNDX-MAShort  \\\n",
       "Average Annual Return     0.248853     0.087724     0.043466       0.055264   \n",
       "Annual Risk               0.309429     0.243837     0.073029       0.053283   \n",
       "Sharpe Ratio              0.804234     0.359767     0.595194       1.037173   \n",
       "Max Drawdown             -0.377275    -0.263749    -0.153604      -0.105729   \n",
       "Success Ratio             0.620438     0.690302     0.524505       0.641293   \n",
       "\n",
       "                       GE-MAShort  GOLD-MAFlat   INTC-BB  SPY-MAFlat  \\\n",
       "Average Annual Return   -0.170227     0.072403  0.128410    0.081179   \n",
       "Annual Risk              0.459837     0.136723  0.333044    0.146135   \n",
       "Sharpe Ratio            -0.370189     0.529564  0.385563    0.555505   \n",
       "Max Drawdown            -1.275920    -0.226672 -0.476805   -0.210084   \n",
       "Success Ratio            0.481752     0.678832  0.717414    0.676747   \n",
       "\n",
       "                       Max Sharpe Portfolio  \n",
       "Average Annual Return              0.082852  \n",
       "Annual Risk                        0.097081  \n",
       "Sharpe Ratio                       0.853435  \n",
       "Max Drawdown                      -0.157603  \n",
       "Success Ratio                      0.547445  "
      ]
     },
     "execution_count": 15,
     "metadata": {},
     "output_type": "execute_result"
    }
   ],
   "source": [
    "# Calculate Performance Statistics\n",
    "calcPerformanceStatistics(myStrategies_df.loc[outOfSample])"
   ]
  },
  {
   "cell_type": "markdown",
   "id": "b1f3accf-b803-42dd-a5be-0b6707ed82e8",
   "metadata": {
    "tags": []
   },
   "source": [
    "#### The Sharpe for Out-Sample Max Sharpe Portfolio comes out to be 0.85, which is less than the In-Sample data."
   ]
  },
  {
   "cell_type": "markdown",
   "id": "df6b6263-6fb8-458f-b8a5-05ee495807c6",
   "metadata": {},
   "source": [
    "  "
   ]
  },
  {
   "cell_type": "markdown",
   "id": "115e1567-a80a-4766-a293-f17b209d3ed2",
   "metadata": {},
   "source": [
    "## Q5 Comparing Out-Sample data with Equal Weight Portfolio"
   ]
  },
  {
   "cell_type": "code",
   "execution_count": 16,
   "id": "9907e444-4ae9-4ef1-b369-2f5a1fc8f52e",
   "metadata": {
    "tags": []
   },
   "outputs": [],
   "source": [
    "# Equal weights for the 8 instruments.\n",
    "weights = np.ones(8)/8\n",
    "\n",
    "# a. Benchmark-only portfolio (columns ending with -BMK-MA)\n",
    "bmk_df = master_df.filter(like='-BMK-MA')\n",
    "bmk_portfolio_returns = pd.DataFrame((weights * bmk_df).sum(axis=1, skipna=False), columns=['Benchmark Portfolio'])"
   ]
  },
  {
   "cell_type": "code",
   "execution_count": 17,
   "id": "9d2aa8b7-8b2e-4eea-a4af-7730c9a0c0cc",
   "metadata": {
    "tags": []
   },
   "outputs": [
    {
     "name": "stdout",
     "output_type": "stream",
     "text": [
      "Performance Statistics:\n"
     ]
    },
    {
     "data": {
      "text/html": [
       "<div>\n",
       "<style scoped>\n",
       "    .dataframe tbody tr th:only-of-type {\n",
       "        vertical-align: middle;\n",
       "    }\n",
       "\n",
       "    .dataframe tbody tr th {\n",
       "        vertical-align: top;\n",
       "    }\n",
       "\n",
       "    .dataframe thead th {\n",
       "        text-align: right;\n",
       "    }\n",
       "</style>\n",
       "<table border=\"1\" class=\"dataframe\">\n",
       "  <thead>\n",
       "    <tr style=\"text-align: right;\">\n",
       "      <th></th>\n",
       "      <th>Benchmark Portfolio</th>\n",
       "    </tr>\n",
       "  </thead>\n",
       "  <tbody>\n",
       "    <tr>\n",
       "      <th>Average Annual Return</th>\n",
       "      <td>0.063704</td>\n",
       "    </tr>\n",
       "    <tr>\n",
       "      <th>Annual Risk</th>\n",
       "      <td>0.180295</td>\n",
       "    </tr>\n",
       "    <tr>\n",
       "      <th>Sharpe Ratio</th>\n",
       "      <td>0.353333</td>\n",
       "    </tr>\n",
       "    <tr>\n",
       "      <th>Max Drawdown</th>\n",
       "      <td>-0.324084</td>\n",
       "    </tr>\n",
       "    <tr>\n",
       "      <th>Success Ratio</th>\n",
       "      <td>0.546403</td>\n",
       "    </tr>\n",
       "  </tbody>\n",
       "</table>\n",
       "</div>"
      ],
      "text/plain": [
       "                       Benchmark Portfolio\n",
       "Average Annual Return             0.063704\n",
       "Annual Risk                       0.180295\n",
       "Sharpe Ratio                      0.353333\n",
       "Max Drawdown                     -0.324084\n",
       "Success Ratio                     0.546403"
      ]
     },
     "execution_count": 17,
     "metadata": {},
     "output_type": "execute_result"
    }
   ],
   "source": [
    "# Calculate Performance Statistics\n",
    "calcPerformanceStatistics(bmk_portfolio_returns.loc[outOfSample])"
   ]
  },
  {
   "cell_type": "markdown",
   "id": "c105bd4e-6d85-497e-9fc1-d92e72d79dba",
   "metadata": {
    "tags": []
   },
   "source": [
    "#### The Sharpe ratio for the passive benchmark-only portfolio is 0.353"
   ]
  },
  {
   "cell_type": "markdown",
   "id": "874ab996-9cc5-4e8a-b234-58a5fc5f28c2",
   "metadata": {},
   "source": [
    "  "
   ]
  },
  {
   "cell_type": "markdown",
   "id": "1100f0de-5629-4a81-8ca0-f60c491e11c0",
   "metadata": {},
   "source": [
    "## Q6. Was it a waste of time?"
   ]
  },
  {
   "cell_type": "markdown",
   "id": "476c7a77-bd59-4aef-860e-33cc8bdbdb9c",
   "metadata": {},
   "source": [
    "#### (a) Performance of the active portfolio out-of-sample:\n",
    "\n",
    "##### The active portfolio (Max Sharpe Portfolio) has shown solid performance in the out-of-sample period, delivering positive returns with a Sharpe ratio of 0.853. This indicates that the strategies applied to the portfolio were effective in managing risk and generating returns during the period from 2019-01-02 to 2022-10-31.\n",
    "\n",
    "#### (b) Does the active portfolio outperform the passive portfolio?\n",
    "\n",
    "##### Yes, the active portfolio outperformed the passive equally-weighted benchmark portfolio, which had a Sharpe ratio of 0.353. This difference in performance shows that the active portfolio delivered superior risk-adjusted returns compared to the passive benchmark.\n",
    "\n",
    "### This shows that the project was not a waste of time, infact we were successfully able to grasp the concepts and deliver expected optimal results if not the best, "
   ]
  },
  {
   "cell_type": "markdown",
   "id": "aedd4fd8-fcb5-4f71-8ad7-d9a69dd84452",
   "metadata": {},
   "source": [
    "  "
   ]
  },
  {
   "cell_type": "markdown",
   "id": "50eeedc2-78d2-479c-9565-419068a414c6",
   "metadata": {},
   "source": [
    "\"We pledge on our honor that we have not given nor received any unauthorized assistance on this\n",
    "assignment to/from other groups. Nor have we received any assistance from prior year students.\"  \n",
    "-- Abhishek Shetty, Akshay Belnekar, Rachita Fatehpuria, Vaibhavi Hedaoo"
   ]
  }
 ],
 "metadata": {
  "kernelspec": {
   "display_name": "Python 3 (ipykernel)",
   "language": "python",
   "name": "python3"
  },
  "language_info": {
   "codemirror_mode": {
    "name": "ipython",
    "version": 3
   },
   "file_extension": ".py",
   "mimetype": "text/x-python",
   "name": "python",
   "nbconvert_exporter": "python",
   "pygments_lexer": "ipython3",
   "version": "3.11.4"
  }
 },
 "nbformat": 4,
 "nbformat_minor": 5
}
